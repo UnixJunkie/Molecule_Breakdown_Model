{
 "cells": [
  {
   "cell_type": "markdown",
   "metadata": {},
   "source": [
    "# **_Project - Fragment Results Merging_**\n"
   ]
  },
  {
   "cell_type": "markdown",
   "metadata": {},
   "source": [
    "## Environment Setting Up and Packages Importing:\n",
    "        !conda activate fragment-env \n",
    "        Please create this environment from the .yml file: fragment.yml"
   ]
  },
  {
   "cell_type": "code",
   "execution_count": null,
   "metadata": {},
   "outputs": [],
   "source": [
    "import sys\n",
    "import time\n",
    "import glob, os\n",
    "\n",
    "import pandas as pd\n",
    "from tqdm import tqdm \n",
    "import pickle\n",
    "import numpy as np\n",
    "\n",
    "#RDKit:\n",
    "from rdkit.Chem import AllChem\n",
    "from rdkit.Chem import rdchem\n",
    "from rdkit import Chem\n",
    "from rdkit.Chem.rdmolops import *\n",
    "from rdkit.Chem import PandasTools\n",
    "from rdkit.Chem.Draw import MolsToGridImage"
   ]
  },
  {
   "cell_type": "markdown",
   "metadata": {},
   "source": [
    "### 1. Collect all the Pickle Files in the Result Folder:"
   ]
  },
  {
   "cell_type": "code",
   "execution_count": null,
   "metadata": {
    "tags": []
   },
   "outputs": [],
   "source": [
    "# Target Directory\n",
    "directory = str(os.getcwd()) + \"/results\"\n",
    "\n",
    "iteration = 0\n",
    "row_count = 0\n",
    "\n",
    "for filename in os.listdir(directory):\n",
    "    if filename.endswith(\".pickle\"):\n",
    "        \n",
    "        iteration += 1\n",
    "        if iteration == 1:\n",
    "            df = pd.read_pickle('results/' + filename)\n",
    "            #print(\"basis lenght = \" + str(len(df)))\n",
    "            row_count += len(df)\n",
    "\n",
    "        if iteration != 1:\n",
    "            df2 = pd.read_pickle('results/' + filename)\n",
    "            #print(\"added lenght = \" + str(len(df2)))\n",
    "            row_count += len(df2)\n",
    "\n",
    "            df = df.append(df2, 2)\n",
    "\n",
    "print(\"Total enteries that have been merged: \\t\" + str(row_count))\n"
   ]
  },
  {
   "cell_type": "markdown",
   "metadata": {},
   "source": [
    "### 2. Group the Molecules by Same Fragments:"
   ]
  },
  {
   "cell_type": "code",
   "execution_count": null,
   "metadata": {},
   "outputs": [],
   "source": [
    "df_result = df.groupby(['Fragment_SMILES'], as_index = False).agg({'Frequency': 'sum'})"
   ]
  },
  {
   "cell_type": "code",
   "execution_count": null,
   "metadata": {},
   "outputs": [],
   "source": [
    "len(df_result)\n",
    "print(\"The number of fragments obtained is:\", + len(df_result))\n"
   ]
  },
  {
   "cell_type": "markdown",
   "metadata": {},
   "source": [
    "### 3. Sort the Data According to the Frequency:"
   ]
  },
  {
   "cell_type": "code",
   "execution_count": null,
   "metadata": {},
   "outputs": [],
   "source": [
    "# For the data already has frequency:\n",
    "df_result = df_result.sort_values(by=['Frequency'], ascending = False)"
   ]
  },
  {
   "cell_type": "code",
   "execution_count": null,
   "metadata": {},
   "outputs": [],
   "source": [
    "# Reset the index:\n",
    "df_result = df_result.reset_index(drop = True)\n",
    "df_result"
   ]
  },
  {
   "cell_type": "code",
   "execution_count": null,
   "metadata": {},
   "outputs": [],
   "source": [
    "# Save the pickle file:\n",
    "with open(\"results_merged.pickle\", \"wb\") as f:\n",
    "    pickle.dump(df_result,f)"
   ]
  },
  {
   "cell_type": "markdown",
   "metadata": {},
   "source": [
    "### 4. Display the Fragments:"
   ]
  },
  {
   "cell_type": "code",
   "execution_count": null,
   "metadata": {},
   "outputs": [],
   "source": [
    "# For the databases too large, display the first 10000 fragments:\n",
    "df_result = df_result.head(10000)"
   ]
  },
  {
   "cell_type": "code",
   "execution_count": null,
   "metadata": {},
   "outputs": [],
   "source": [
    "# Add ROMol to each fragment:\n",
    "PandasTools.AddMoleculeColumnToFrame(df_result, smilesCol = \"Fragment_SMILES\")\n",
    "df_result.head(3)\n",
    "\n",
    "# If the ROMols already have been added before, to display them again:\n",
    "# PandasTools.RenderImagesInAllDataFrames(images=True)"
   ]
  },
  {
   "cell_type": "code",
   "execution_count": null,
   "metadata": {},
   "outputs": [],
   "source": [
    "# Display the results (all or top 10000 frequent fragments) in a .html file:\n",
    "\n",
    "fmolport = open('top-10000-results-with-ROMol.html','w')\n",
    "h = df_result.to_html()\n",
    "fmolport.write(h)\n",
    "fmolport.close()"
   ]
  }
 ],
 "metadata": {
  "file_extension": ".py",
  "kernelspec": {
   "display_name": "Python 3.9.13 ('env-framework')",
   "language": "python",
   "name": "python3"
  },
  "language_info": {
   "codemirror_mode": {
    "name": "ipython",
    "version": 3
   },
   "file_extension": ".py",
   "mimetype": "text/x-python",
   "name": "python",
   "nbconvert_exporter": "python",
   "pygments_lexer": "ipython3",
   "version": "3.9.13"
  },
  "mimetype": "text/x-python",
  "name": "python",
  "npconvert_exporter": "python",
  "orig_nbformat": 2,
  "pygments_lexer": "ipython3",
  "version": 3,
  "vscode": {
   "interpreter": {
    "hash": "87dbf77cf35f5f726e90416477673590d2c60fec35ce60dd3bcb225014cccde7"
   }
  }
 },
 "nbformat": 4,
 "nbformat_minor": 2
}
